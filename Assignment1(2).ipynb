{
  "nbformat": 4,
  "nbformat_minor": 0,
  "metadata": {
    "colab": {
      "provenance": [],
      "collapsed_sections": [
        "QRkeGDLkj4wT",
        "K4zarrUcvNsC"
      ],
      "toc_visible": true,
      "authorship_tag": "ABX9TyMVG2xNtUlewjMJLYBkLIpT",
      "include_colab_link": true
    },
    "kernelspec": {
      "name": "python3",
      "display_name": "Python 3"
    },
    "language_info": {
      "name": "python"
    }
  },
  "cells": [
    {
      "cell_type": "markdown",
      "metadata": {
        "id": "view-in-github",
        "colab_type": "text"
      },
      "source": [
        "<a href=\"https://colab.research.google.com/github/s6404053630130/040563107-Tools-for-Statistical-Data-Science/blob/main/Assignment1(2).ipynb\" target=\"_parent\"><img src=\"https://colab.research.google.com/assets/colab-badge.svg\" alt=\"Open In Colab\"/></a>"
      ]
    },
    {
      "cell_type": "markdown",
      "source": [
        "# DATA"
      ],
      "metadata": {
        "id": "QRkeGDLkj4wT"
      }
    },
    {
      "cell_type": "code",
      "source": [
        "pip install -U scikit-learn"
      ],
      "metadata": {
        "colab": {
          "base_uri": "https://localhost:8080/"
        },
        "id": "KnO2eshJuaVz",
        "outputId": "dede10d2-9d10-4709-f26d-cefad6f6dab1"
      },
      "execution_count": null,
      "outputs": [
        {
          "output_type": "stream",
          "name": "stdout",
          "text": [
            "Requirement already satisfied: scikit-learn in /usr/local/lib/python3.10/dist-packages (1.3.2)\n",
            "Requirement already satisfied: numpy<2.0,>=1.17.3 in /usr/local/lib/python3.10/dist-packages (from scikit-learn) (1.23.5)\n",
            "Requirement already satisfied: scipy>=1.5.0 in /usr/local/lib/python3.10/dist-packages (from scikit-learn) (1.11.4)\n",
            "Requirement already satisfied: joblib>=1.1.1 in /usr/local/lib/python3.10/dist-packages (from scikit-learn) (1.3.2)\n",
            "Requirement already satisfied: threadpoolctl>=2.0.0 in /usr/local/lib/python3.10/dist-packages (from scikit-learn) (3.2.0)\n"
          ]
        }
      ]
    },
    {
      "cell_type": "code",
      "source": [
        "import pandas as pd\n",
        "from sklearn.model_selection import train_test_split\n",
        "from sklearn.feature_selection import RFE\n",
        "from sklearn.ensemble import RandomForestClassifier\n",
        "import numpy as np\n",
        "from sklearn.feature_selection import RFE, SelectKBest, f_regression, mutual_info_classif\n",
        "from sklearn.model_selection import train_test_split\n",
        "from sklearn.linear_model import LinearRegression\n",
        "from sklearn.ensemble import RandomForestRegressor\n",
        "from sklearn.inspection import permutation_importance"
      ],
      "metadata": {
        "id": "dPR9uOZlkrzW"
      },
      "execution_count": null,
      "outputs": []
    },
    {
      "cell_type": "code",
      "source": [
        "from google.colab import drive\n",
        "drive.mount('/content/drive')"
      ],
      "metadata": {
        "colab": {
          "base_uri": "https://localhost:8080/"
        },
        "id": "uVEVYfm8j9wz",
        "outputId": "57c3782f-7e02-4edc-e58f-16f06fd2735d"
      },
      "execution_count": null,
      "outputs": [
        {
          "output_type": "stream",
          "name": "stdout",
          "text": [
            "Drive already mounted at /content/drive; to attempt to forcibly remount, call drive.mount(\"/content/drive\", force_remount=True).\n"
          ]
        }
      ]
    },
    {
      "cell_type": "code",
      "source": [
        "df = pd.read_csv(\"/content/drive/MyDrive/Tools for Statistical Data Science/pima-indians-diabetes.csv\")"
      ],
      "metadata": {
        "id": "z6nBHztVkOr6"
      },
      "execution_count": null,
      "outputs": []
    },
    {
      "cell_type": "code",
      "source": [
        "df.shape"
      ],
      "metadata": {
        "colab": {
          "base_uri": "https://localhost:8080/"
        },
        "id": "Tx5f0q52Rtvz",
        "outputId": "02b51ff7-911e-45b9-b4d3-efc106ca56bd"
      },
      "execution_count": null,
      "outputs": [
        {
          "output_type": "execute_result",
          "data": {
            "text/plain": [
              "(768, 9)"
            ]
          },
          "metadata": {},
          "execution_count": 23
        }
      ]
    },
    {
      "cell_type": "code",
      "source": [
        "df.columns"
      ],
      "metadata": {
        "id": "hDP0eDA0xSzU",
        "colab": {
          "base_uri": "https://localhost:8080/"
        },
        "outputId": "7fb82953-6bdc-4300-8dcc-e2f598d70104"
      },
      "execution_count": null,
      "outputs": [
        {
          "output_type": "execute_result",
          "data": {
            "text/plain": [
              "Index(['Number of times pregnant',\n",
              "       'Plasma glucose concentration a 2 hours in an oral glucose tolerance test',\n",
              "       'Diastolic blood pressure (mm Hg)', 'Triceps skin fold thickness (mm)',\n",
              "       '2-Hour serum insulin (mu U/ml)',\n",
              "       'Body mass index (weight in kg/(height in m)^2)',\n",
              "       'Diabetes pedigree function', 'Age (years)', 'Class variable (0 or 1)'],\n",
              "      dtype='object')"
            ]
          },
          "metadata": {},
          "execution_count": 5
        }
      ]
    },
    {
      "cell_type": "code",
      "source": [
        "X = df.drop('Class variable (0 or 1)', axis=1)\n",
        "y = df['Class variable (0 or 1)']\n",
        "# Split the data set into a training set and a test set\n",
        "X_train, X_test, y_train, y_test = train_test_split(X, y, test_size=0.2, random_state=42)"
      ],
      "metadata": {
        "id": "j1eV_4K6x1zp"
      },
      "execution_count": null,
      "outputs": []
    },
    {
      "cell_type": "code",
      "source": [
        "# get the dataset\n",
        "def get_dataset():\n",
        "  X = df.drop('Class variable (0 or 1)', axis=1)\n",
        "  y = df['Class variable (0 or 1)']\n",
        "  return X, y"
      ],
      "metadata": {
        "id": "Exch6059V5Rj"
      },
      "execution_count": null,
      "outputs": []
    },
    {
      "cell_type": "markdown",
      "source": [
        "# **1.Recursive Feature Elimination (RFE)**"
      ],
      "metadata": {
        "id": "IFMfWK72jzIe"
      }
    },
    {
      "cell_type": "markdown",
      "source": [
        "## RFE for Classification"
      ],
      "metadata": {
        "id": "Uh5-B9MXsAc7"
      }
    },
    {
      "cell_type": "code",
      "execution_count": null,
      "metadata": {
        "id": "K3pCb3JcfAqz",
        "colab": {
          "base_uri": "https://localhost:8080/"
        },
        "outputId": "3ef35994-74df-488c-9a39-f611c44b435d"
      },
      "outputs": [
        {
          "output_type": "stream",
          "name": "stdout",
          "text": [
            "Accuracy: 0.713 (0.057)\n"
          ]
        }
      ],
      "source": [
        "# evaluate RFE for classification\n",
        "from numpy import mean\n",
        "from numpy import std\n",
        "from sklearn.datasets import make_classification\n",
        "from sklearn.model_selection import cross_val_score\n",
        "from sklearn.model_selection import RepeatedStratifiedKFold\n",
        "from sklearn.feature_selection import RFE\n",
        "from sklearn.tree import DecisionTreeClassifier\n",
        "from sklearn.pipeline import Pipeline\n",
        "# get the dataset\n",
        "def get_dataset():\n",
        "  X = df.drop('Class variable (0 or 1)', axis=1)\n",
        "  y = df['Class variable (0 or 1)']\n",
        "  return X, y\n",
        "# create pipeline\n",
        "rfe = RFE(estimator=DecisionTreeClassifier(), n_features_to_select=5)\n",
        "model = DecisionTreeClassifier()\n",
        "pipeline = Pipeline(steps=[('s',rfe),('m',model)])\n",
        "# evaluate model\n",
        "cv = RepeatedStratifiedKFold(n_splits=10, n_repeats=3, random_state=42)\n",
        "n_scores = cross_val_score(pipeline, X , y , scoring='accuracy', cv=cv, n_jobs=-1, error_score='raise')\n",
        "# report performance\n",
        "print('Accuracy: %.3f (%.3f)' % (mean(n_scores), std(n_scores)))"
      ]
    },
    {
      "cell_type": "code",
      "source": [
        "print(n_scores)"
      ],
      "metadata": {
        "colab": {
          "base_uri": "https://localhost:8080/"
        },
        "id": "aTOb-59nsDtL",
        "outputId": "507d383f-76df-4f1a-ed57-6bc75d485632"
      },
      "execution_count": null,
      "outputs": [
        {
          "output_type": "stream",
          "name": "stdout",
          "text": [
            "[0.71428571 0.75324675 0.72727273 0.80519481 0.77922078 0.67532468\n",
            " 0.71428571 0.74025974 0.71052632 0.57894737 0.67532468 0.66233766\n",
            " 0.75324675 0.68831169 0.76623377 0.75324675 0.75324675 0.71428571\n",
            " 0.68421053 0.72368421 0.74025974 0.76623377 0.77922078 0.72727273\n",
            " 0.66233766 0.66233766 0.74025974 0.72727273 0.59210526 0.61842105]\n"
          ]
        }
      ]
    },
    {
      "cell_type": "markdown",
      "source": [
        "## RFE for Regression"
      ],
      "metadata": {
        "id": "3l6LgL5ysKKj"
      }
    },
    {
      "cell_type": "code",
      "source": [
        "# evaluate RFE for regression\n",
        "from numpy import mean\n",
        "from numpy import std\n",
        "from sklearn.datasets import make_regression\n",
        "from sklearn.model_selection import cross_val_score\n",
        "from sklearn.model_selection import RepeatedKFold\n",
        "from sklearn.feature_selection import RFE\n",
        "from sklearn.tree import DecisionTreeRegressor\n",
        "from sklearn.pipeline import Pipeline\n",
        "# get the dataset\n",
        "def get_dataset():\n",
        "  X = df.drop('Class variable (0 or 1)', axis=1)\n",
        "  y = df['Class variable (0 or 1)']\n",
        "  return X, y\n",
        "# create pipeline\n",
        "rfe = RFE(estimator=DecisionTreeRegressor(), n_features_to_select=5)\n",
        "model = DecisionTreeRegressor()\n",
        "pipeline = Pipeline(steps=[('s',rfe),('m',model)])\n",
        "# evaluate model\n",
        "cv = RepeatedKFold(n_splits=10, n_repeats=3, random_state=42)\n",
        "n_scores = cross_val_score(pipeline, X, y, scoring='neg_mean_absolute_error', cv=cv, n_jobs=-1, error_score='raise')\n",
        "# report performance\n",
        "print('MAE: %.3f (%.3f)' % (mean(n_scores), std(n_scores)))"
      ],
      "metadata": {
        "colab": {
          "base_uri": "https://localhost:8080/"
        },
        "id": "qmHwfuAlsIBx",
        "outputId": "3ead4472-257e-45d4-bfff-153ea0a034b2"
      },
      "execution_count": null,
      "outputs": [
        {
          "output_type": "stream",
          "name": "stdout",
          "text": [
            "MAE: -0.293 (0.044)\n"
          ]
        }
      ]
    },
    {
      "cell_type": "markdown",
      "source": [
        "# **2.Stat feature selection**"
      ],
      "metadata": {
        "id": "86sTRFquuk9b"
      }
    },
    {
      "cell_type": "markdown",
      "source": [
        "## Regression Feature Selection"
      ],
      "metadata": {
        "id": "u-8yevu2usNK"
      }
    },
    {
      "cell_type": "code",
      "source": [
        "from sklearn.datasets import make_regression\n",
        "from sklearn.feature_selection import SelectKBest\n",
        "from sklearn.feature_selection import f_regression\n",
        "\n",
        "# get the dataset\n",
        "def get_dataset():\n",
        "    X = df.drop('Class variable (0 or 1)', axis=1)\n",
        "    y = df['Class variable (0 or 1)']\n",
        "    return X, y\n",
        "\n",
        "# define feature selection\n",
        "fs = SelectKBest(score_func=f_regression, k=8)\n",
        "\n",
        "# get the dataset\n",
        "X, y = get_dataset()\n",
        "\n",
        "# apply feature selection\n",
        "X_selected = fs.fit_transform(X, y)\n",
        "print(X_selected.shape)\n"
      ],
      "metadata": {
        "colab": {
          "base_uri": "https://localhost:8080/"
        },
        "id": "7gqxW7wKd4ku",
        "outputId": "24794b37-3129-4ad6-a6b8-7593d3a18f4d"
      },
      "execution_count": null,
      "outputs": [
        {
          "output_type": "stream",
          "name": "stdout",
          "text": [
            "(768, 8)\n"
          ]
        }
      ]
    },
    {
      "cell_type": "code",
      "source": [
        "from sklearn.feature_selection import SelectKBest\n",
        "from sklearn.feature_selection import f_regression\n",
        "\n",
        "# get the dataset\n",
        "def get_dataset():\n",
        "    X = df.drop('Class variable (0 or 1)', axis=1)\n",
        "    y = df['Class variable (0 or 1)']\n",
        "    return X, y\n",
        "\n",
        "# define feature selection\n",
        "fs = SelectKBest(score_func=f_regression, k=8)\n",
        "\n",
        "# fit and transform on the training set\n",
        "X_train_selected = fs.fit_transform(X_train, y_train)\n",
        "\n",
        "# transform the test set using the same feature selection\n",
        "X_test_selected = fs.transform(X_test)\n",
        "\n",
        "# Print the shape of the selected features\n",
        "print(X_train_selected.shape)\n",
        "print(X_test_selected.shape)\n"
      ],
      "metadata": {
        "colab": {
          "base_uri": "https://localhost:8080/"
        },
        "id": "M-aMqfXtTPij",
        "outputId": "72a80321-cf8a-4d5d-9cb0-bfb0d3941888"
      },
      "execution_count": null,
      "outputs": [
        {
          "output_type": "stream",
          "name": "stdout",
          "text": [
            "(614, 8)\n",
            "(154, 8)\n"
          ]
        }
      ]
    },
    {
      "cell_type": "markdown",
      "source": [
        "## Classification Feature Selection"
      ],
      "metadata": {
        "id": "JGpFSnk-uxGh"
      }
    },
    {
      "cell_type": "code",
      "source": [
        "# ANOVA feature selection for numeric input and categorical output\n",
        "from sklearn.feature_selection import f_classif# get the dataset\n",
        "\n",
        "X,y=  get_dataset()\n",
        "# define feature selection\n",
        "fs = SelectKBest(score_func=f_classif, k=8)\n",
        "# apply feature selection\n",
        "X_selected = fs.fit_transform(X, y)\n",
        "print(X_selected.shape)"
      ],
      "metadata": {
        "colab": {
          "base_uri": "https://localhost:8080/"
        },
        "id": "sSwHyQ72uwbL",
        "outputId": "e5fc7d77-f595-4bbb-90ef-6981252a7a2d"
      },
      "execution_count": null,
      "outputs": [
        {
          "output_type": "stream",
          "name": "stdout",
          "text": [
            "(768, 8)\n"
          ]
        }
      ]
    },
    {
      "cell_type": "markdown",
      "source": [
        "# **3.Permutation Feature Importance**\n",
        "\n",
        "(ความสำคัญของคุณลักษณะการเรียงสับเปลี่ยน)"
      ],
      "metadata": {
        "id": "K4zarrUcvNsC"
      }
    },
    {
      "cell_type": "markdown",
      "source": [
        "## permutation feature importance with knn for regression"
      ],
      "metadata": {
        "id": "S6QQ_Fof19XP"
      }
    },
    {
      "cell_type": "code",
      "source": [
        "# permutation feature importance with knn for regression\n",
        "from sklearn.datasets import make_regression\n",
        "from sklearn.neighbors import KNeighborsRegressor\n",
        "from sklearn.inspection import permutation_importance\n",
        "from matplotlib import pyplot\n",
        "# get the dataset\n",
        "def get_dataset():\n",
        "    X = df.drop('Class variable (0 or 1)', axis=1)\n",
        "    y = df['Class variable (0 or 1)']\n",
        "    return X, y\n",
        "\n",
        "# define the model\n",
        "model = KNeighborsRegressor()\n",
        "# fit the model\n",
        "model.fit(X, y)\n",
        "# perform permutation importance\n",
        "results = permutation_importance(model, X, y, scoring='neg_mean_squared_error')\n",
        "# get importance\n",
        "importance = results.importances_mean\n",
        "# summarize feature importance\n",
        "for i,v in enumerate(importance):\n",
        "\tprint('Feature: %0d, Score: %.5f' % (i,v))\n",
        "# plot feature importance\n",
        "pyplot.bar([x for x in range(len(importance))], importance)\n",
        "pyplot.show()"
      ],
      "metadata": {
        "id": "dFYwUS8iaV6C",
        "colab": {
          "base_uri": "https://localhost:8080/",
          "height": 569
        },
        "outputId": "f5faba87-151d-47e9-98b7-e5519266c0cb"
      },
      "execution_count": null,
      "outputs": [
        {
          "output_type": "stream",
          "name": "stdout",
          "text": [
            "Feature: 0, Score: -0.00097\n",
            "Feature: 1, Score: 0.10349\n",
            "Feature: 2, Score: 0.01429\n",
            "Feature: 3, Score: 0.01391\n",
            "Feature: 4, Score: 0.04572\n",
            "Feature: 5, Score: 0.00272\n",
            "Feature: 6, Score: 0.00000\n",
            "Feature: 7, Score: 0.01950\n"
          ]
        },
        {
          "output_type": "display_data",
          "data": {
            "text/plain": [
              "<Figure size 640x480 with 1 Axes>"
            ],
            "image/png": "[encoded data removed]"
          },
          "metadata": {}
        }
      ]
    },
    {
      "cell_type": "markdown",
      "source": [
        "## permutation feature importance with knn for classification"
      ],
      "metadata": {
        "id": "y7dVBZSo2A-f"
      }
    },
    {
      "cell_type": "code",
      "source": [
        "from sklearn.neighbors import KNeighborsClassifier\n",
        "# define the model\n",
        "model = KNeighborsClassifier()\n",
        "# fit the model\n",
        "model.fit(X, y)\n",
        "# perform permutation importance\n",
        "results = permutation_importance(model, X, y, scoring='accuracy')\n",
        "# get importance\n",
        "importance = results.importances_mean\n",
        "# summarize feature importance\n",
        "for i,v in enumerate(importance):\n",
        "\tprint('Feature: %0d, Score: %.5f' % (i,v))\n",
        "# plot feature importance\n",
        "pyplot.bar([x for x in range(len(importance))], importance)\n",
        "pyplot.show()"
      ],
      "metadata": {
        "id": "_GCMPHt72EYX",
        "colab": {
          "base_uri": "https://localhost:8080/",
          "height": 572
        },
        "outputId": "28e1c629-3067-47f3-aa86-e0ef866938a8"
      },
      "execution_count": null,
      "outputs": [
        {
          "output_type": "stream",
          "name": "stdout",
          "text": [
            "Feature: 0, Score: -0.00156\n",
            "Feature: 1, Score: 0.13411\n",
            "Feature: 2, Score: 0.01667\n",
            "Feature: 3, Score: 0.01458\n",
            "Feature: 4, Score: 0.06250\n",
            "Feature: 5, Score: -0.00000\n",
            "Feature: 6, Score: 0.00000\n",
            "Feature: 7, Score: 0.03620\n"
          ]
        },
        {
          "output_type": "display_data",
          "data": {
            "text/plain": [
              "<Figure size 640x480 with 1 Axes>"
            ],
            "image/png": "[encoded data removed]"
          },
          "metadata": {}
        }
      ]
    },
    {
      "cell_type": "markdown",
      "source": [
        "# **4.Comparison in model development**"
      ],
      "metadata": {
        "id": "NPYMyCCN6L89"
      }
    },
    {
      "cell_type": "markdown",
      "source": [
        "## Number of features"
      ],
      "metadata": {
        "id": "HJtlB43evWpt"
      }
    },
    {
      "cell_type": "code",
      "source": [
        "# explore the number of selected features for RFE\n",
        "from numpy import mean\n",
        "from numpy import std\n",
        "from sklearn.datasets import make_classification\n",
        "from sklearn.model_selection import cross_val_score\n",
        "from sklearn.model_selection import RepeatedStratifiedKFold\n",
        "from sklearn.feature_selection import RFE\n",
        "from sklearn.tree import DecisionTreeClassifier\n",
        "from sklearn.pipeline import Pipeline\n",
        "from matplotlib import pyplot\n",
        "\n",
        "# get the dataset\n",
        "def get_dataset():\n",
        "  X = df.drop('Class variable (0 or 1)', axis=1)\n",
        "  y = df['Class variable (0 or 1)']\n",
        "  return X, y\n",
        "\n",
        "\n",
        "# get a list of models to evaluate\n",
        "def get_models():\n",
        "\tmodels = dict()\n",
        "\tfor i in range(2, 10):\n",
        "\t\trfe = RFE(estimator=DecisionTreeClassifier(), n_features_to_select=i)\n",
        "\t\tmodel = DecisionTreeClassifier()\n",
        "\t\tmodels[str(i)] = Pipeline(steps=[('s',rfe),('m',model)])\n",
        "\treturn models\n",
        "\n",
        "# evaluate a give model using cross-validation\n",
        "def evaluate_model(model, X, y):\n",
        "\tcv = RepeatedStratifiedKFold(n_splits=10, n_repeats=3, random_state=42)\n",
        "\tscores = cross_val_score(model, X, y, scoring='accuracy', cv=cv, n_jobs=-1, error_score='raise')\n",
        "\treturn scores\n",
        "\n",
        "# define dataset\n",
        "X, y = get_dataset()\n",
        "# get the models to evaluate\n",
        "models = get_models()\n",
        "# evaluate the models and store results\n",
        "results, names = list(), list()\n",
        "for name, model in models.items():\n",
        "\tscores = evaluate_model(model, X, y)\n",
        "\tresults.append(scores)\n",
        "\tnames.append(name)\n",
        "\tprint('>%s %.3f (%.3f)' % (name, mean(scores), std(scores)))\n",
        "# plot model performance for comparison\n",
        "pyplot.boxplot(results, labels=names, showmeans=True)\n",
        "pyplot.show()"
      ],
      "metadata": {
        "colab": {
          "base_uri": "https://localhost:8080/",
          "height": 569
        },
        "id": "zwry_5ZQdaZf",
        "outputId": "3f07322b-73cd-47e4-8281-e67388b7c633"
      },
      "execution_count": null,
      "outputs": [
        {
          "output_type": "stream",
          "name": "stdout",
          "text": [
            ">2 0.681 (0.050)\n",
            ">3 0.680 (0.049)\n",
            ">4 0.706 (0.056)\n",
            ">5 0.711 (0.056)\n",
            ">6 0.710 (0.048)\n",
            ">7 0.711 (0.054)\n",
            ">8 0.712 (0.050)\n",
            ">9 0.705 (0.051)\n"
          ]
        },
        {
          "output_type": "display_data",
          "data": {
            "text/plain": [
              "<Figure size 640x480 with 1 Axes>"
            ],
            "image/png": "[encoded data removed]"
          },
          "metadata": {}
        }
      ]
    },
    {
      "cell_type": "markdown",
      "source": [
        "จำนวนฟีเจอร์ที่ดีที่สุดคือ 5 เนื่องจากสอดคล้องกับความแม่นยำสูงสุดที่ 0.85"
      ],
      "metadata": {
        "id": "sG7I9ffUi0bI"
      }
    },
    {
      "cell_type": "markdown",
      "source": [
        "ในกรณีนี้ ดูเหมือนว่ามีการเรียกใช้โมเดล RFE และส่งคืนรายการคุณลักษณะที่จัดอันดับตามคะแนนความสำคัญแล้ว จำนวนคุณสมบัติที่เลือกจะถูกกำหนดโดยการเลือกจุดตัดในรายการจัดอันดับ เช่น ถ้าเราเลือกคุณสมบัติ 3 อันดับแรก เราจะเลือกคุณสมบัติที่มีคะแนน 0.85, 0.80 และ 0.79"
      ],
      "metadata": {
        "id": "AZNidQuBiQgp"
      }
    },
    {
      "cell_type": "code",
      "source": [
        "# Define the dataset\n",
        "def get_dataset():\n",
        "    X = df.drop('Class variable (0 or 1)', axis=1)\n",
        "    y = df['Class variable (0 or 1)']\n",
        "    return X, y\n",
        "\n",
        "# Get a list of models to evaluate\n",
        "def get_models():\n",
        "    models = dict()\n",
        "    for i in range(2, 10):\n",
        "        rfe = RFE(estimator=DecisionTreeClassifier(), n_features_to_select=i)\n",
        "        model = DecisionTreeClassifier()\n",
        "        models[str(i)] = Pipeline(steps=[('s', rfe), ('m', model)])\n",
        "    return models\n",
        "\n",
        "# Evaluate a given model using cross-validation\n",
        "def evaluate_model(model, X, y):\n",
        "    cv = RepeatedStratifiedKFold(n_splits=10, n_repeats=3, random_state=42)\n",
        "    scores = cross_val_score(model, X, y, scoring='accuracy', cv=cv, n_jobs=-1, error_score='raise')\n",
        "    return scores\n",
        "\n",
        "# Define the dataset\n",
        "X, y = get_dataset()\n",
        "\n",
        "# Get the models to evaluate\n",
        "models = get_models()\n",
        "\n",
        "# Evaluate the models and store results\n",
        "results, names = list(), list()\n",
        "for name, model in models.items():\n",
        "    scores = evaluate_model(model, X, y)\n",
        "    results.append(scores)\n",
        "    names.append(name)\n",
        "    print('>%s %.3f (%.3f)' % (name, mean(scores), std(scores)))\n",
        "\n",
        "# Plot model performance for comparison\n",
        "pyplot.boxplot(results, labels=names, showmeans=True)\n",
        "pyplot.xlabel('Number of Selected Features')\n",
        "pyplot.ylabel('Accuracy')\n",
        "pyplot.title('Model Performance with Different Numbers of Selected Features')\n",
        "pyplot.show()\n"
      ],
      "metadata": {
        "colab": {
          "base_uri": "https://localhost:8080/",
          "height": 611
        },
        "id": "lCvr_7lAhYRY",
        "outputId": "6b4c4bf2-8dc4-42d6-b8b2-481d27f8c437"
      },
      "execution_count": null,
      "outputs": [
        {
          "output_type": "stream",
          "name": "stdout",
          "text": [
            ">2 0.682 (0.052)\n",
            ">3 0.674 (0.047)\n",
            ">4 0.708 (0.057)\n",
            ">5 0.714 (0.055)\n",
            ">6 0.705 (0.064)\n",
            ">7 0.705 (0.056)\n",
            ">8 0.698 (0.054)\n",
            ">9 0.712 (0.051)\n"
          ]
        },
        {
          "output_type": "display_data",
          "data": {
            "text/plain": [
              "<Figure size 640x480 with 1 Axes>"
            ],
            "image/png": "[encoded data removed]"
          },
          "metadata": {}
        }
      ]
    },
    {
      "cell_type": "markdown",
      "source": [
        "จำนวนฟีเจอร์ที่ดีที่สุดคือ 5 เนื่องจากสอดคล้องกับความแม่นยำสูงสุดที่ 0.85 อย่างไรก็ตาม สิ่งสำคัญที่ควรทราบก็คือความแตกต่างในความแม่นยำระหว่างฟีเจอร์ 5, 6 และ 7 นั้นค่อนข้างน้อย ดังนั้นจำนวนฟีเจอร์ที่เหมาะสมที่สุดอาจขึ้นอยู่กับปัจจัยอื่นๆ เช่น ทรัพยากรการคำนวณ หรือ ข้อกำหนดเฉพาะ"
      ],
      "metadata": {
        "id": "ORWYIz-Ftf9U"
      }
    },
    {
      "cell_type": "code",
      "source": [
        "from sklearn.datasets import make_classification\n",
        "from sklearn.model_selection import train_test_split\n",
        "from sklearn.ensemble import RandomForestClassifier\n",
        "from sklearn.inspection import permutation_importance\n",
        "from sklearn.feature_selection import RFE\n",
        "from sklearn.tree import DecisionTreeClassifier\n",
        "from sklearn.model_selection import RepeatedStratifiedKFold, cross_val_score\n",
        "from sklearn.pipeline import Pipeline\n",
        "import numpy as np\n",
        "import matplotlib.pyplot as plt\n",
        "\n",
        "# Get a list of models to evaluate\n",
        "def get_models():\n",
        "    models = dict()\n",
        "    for i in range(2, 10):\n",
        "        rfe = RFE(estimator=DecisionTreeClassifier(), n_features_to_select=i)\n",
        "        model = DecisionTreeClassifier()\n",
        "        models[str(i)] = Pipeline(steps=[('s', rfe), ('m', model)])\n",
        "    return models\n",
        "\n",
        "# Evaluate a given model using cross-validation\n",
        "def evaluate_model(model, X, y):\n",
        "    cv = RepeatedStratifiedKFold(n_splits=10, n_repeats=3, random_state=1)\n",
        "    scores = cross_val_score(model, X, y, scoring='accuracy', cv=cv, n_jobs=-1, error_score='raise')\n",
        "    return scores\n",
        "\n",
        "# Get the dataset\n",
        "X, y = get_dataset()\n",
        "\n",
        "# Get the models to evaluate\n",
        "models = get_models()\n",
        "\n",
        "# Evaluate the models and store results\n",
        "results, names = list(), list()\n",
        "\n",
        "# Dictionary to store permutation importances for each number of selected features\n",
        "perm_importances = {}\n",
        "\n",
        "for name, model in models.items():\n",
        "    # Fit the RFE instance with the training data\n",
        "    model['s'].fit(X, y)\n",
        "\n",
        "    # Get the indices of the most important features\n",
        "    important_features = model['s'].get_support(indices=True)\n",
        "\n",
        "    # Store permutation importances for each number of selected features\n",
        "    perm_importances[name] = []\n",
        "\n",
        "    # Perform permutation feature importance for each number of selected features\n",
        "    for i in range(2, int(name) + 1):\n",
        "        rfe = RFE(estimator=DecisionTreeClassifier(), n_features_to_select=i)\n",
        "        model = DecisionTreeClassifier()\n",
        "        pipeline = Pipeline(steps=[('s', rfe), ('m', model)])\n",
        "\n",
        "        # Fit the pipeline with the training data\n",
        "        pipeline.fit(X, y)\n",
        "\n",
        "        # Perform permutation feature importance\n",
        "        result = permutation_importance(pipeline, X, y, n_repeats=10, random_state=42)\n",
        "\n",
        "        # Get the mean importance value\n",
        "        mean_importance = np.mean(result.importances_mean)\n",
        "\n",
        "        # Store the mean importance value\n",
        "        perm_importances[name].append(mean_importance)\n",
        "\n",
        "# Plot permutation feature importance for each number of selected features\n",
        "for name, importances in perm_importances.items():\n",
        "    plt.plot(range(2, int(name) + 1), importances, label=f'{name} features')\n",
        "\n",
        "plt.xlabel('Number of Selected Features')\n",
        "plt.ylabel('Permutation Feature Importance')\n",
        "plt.title('Permutation Feature Importance for Different Numbers of Selected Features')\n",
        "plt.legend()\n",
        "plt.show()\n"
      ],
      "metadata": {
        "colab": {
          "base_uri": "https://localhost:8080/",
          "height": 472
        },
        "id": "i4I4zSQsq9xV",
        "outputId": "2c2d72ae-d39d-4d18-e728-b399081eccd9"
      },
      "execution_count": 43,
      "outputs": [
        {
          "output_type": "display_data",
          "data": {
            "text/plain": [
              "<Figure size 640x480 with 1 Axes>"
            ],
            "image/png": "[encoded data removed]"
          },
          "metadata": {}
        }
      ]
    },
    {
      "cell_type": "markdown",
      "source": [
        "จำนวนฟีเจอร์ที่ดีที่สุดคือ 8 เนื่องจากสอดคล้องกับความแม่นยำสูงสุดที่ 0.15 อย่างไรก็ตาม สิ่งสำคัญที่ควรทราบก็คือความแตกต่างในความแม่นยำระหว่างฟีเจอร์ 9 และ 7 นั้นค่อนข้างน้อย ดังนั้นจำนวนฟีเจอร์ที่เหมาะสมที่สุดอาจขึ้นอยู่กับปัจจัยอื่นๆ"
      ],
      "metadata": {
        "id": "ur3ebZSCtmtd"
      }
    },
    {
      "cell_type": "markdown",
      "source": [
        "## Selected features"
      ],
      "metadata": {
        "id": "Ghlk1_P7vMdc"
      }
    },
    {
      "cell_type": "code",
      "source": [
        "# evaluation of a model using all features\n",
        "from sklearn.datasets import make_classification\n",
        "from sklearn.model_selection import train_test_split\n",
        "from sklearn.linear_model import LogisticRegression\n",
        "from sklearn.metrics import accuracy_score\n",
        "# define the dataset\n",
        "X, y = get_dataset()\n",
        "# fit the model\n",
        "model = LogisticRegression(solver='liblinear')\n",
        "model.fit(X_train, y_train)\n",
        "# evaluate the model\n",
        "yhat = model.predict(X_test)\n",
        "# evaluate predictions\n",
        "accuracy = accuracy_score(y_test, yhat)\n",
        "print('Accuracy: %.2f' % (accuracy*100))"
      ],
      "metadata": {
        "colab": {
          "base_uri": "https://localhost:8080/",
          "height": 0
        },
        "id": "BarYbJynv8uT",
        "outputId": "25121b36-5926-480c-c60d-30df4c97e47c"
      },
      "execution_count": 47,
      "outputs": [
        {
          "output_type": "stream",
          "name": "stdout",
          "text": [
            "Accuracy: 75.97\n"
          ]
        }
      ]
    },
    {
      "cell_type": "code",
      "source": [],
      "metadata": {
        "id": "np1vXinTxQLF"
      },
      "execution_count": null,
      "outputs": []
    },
    {
      "cell_type": "code",
      "source": [
        "#evaluation of a model using 5 features chosen with REF\n",
        "from sklearn.datasets import make_classification\n",
        "from sklearn.model_selection import train_test_split\n",
        "from sklearn.feature_selection import SelectFromModel, RFE\n",
        "from sklearn.ensemble import RandomForestClassifier\n",
        "from sklearn.linear_model import LogisticRegression\n",
        "from sklearn.metrics import accuracy_score\n",
        "\n",
        "X, y = get_dataset()\n",
        "# Split into train and test sets\n",
        "X_train, X_test, y_train, y_test = train_test_split(X, y, test_size=0.2, random_state=42)\n",
        "\n",
        "# Feature selection using RFE\n",
        "fs = RFE(estimator=RandomForestClassifier(n_estimators=1000), n_features_to_select=5)\n",
        "X_train_fs = fs.fit_transform(X_train, y_train)\n",
        "X_test_fs = fs.transform(X_test)\n",
        "\n",
        "# Fit the Logistic Regression model\n",
        "model = LogisticRegression(solver='liblinear')\n",
        "model.fit(X_train_fs, y_train)\n",
        "\n",
        "# Evaluate the model\n",
        "yhat = model.predict(X_test_fs)\n",
        "\n",
        "# Evaluate predictions\n",
        "accuracy = accuracy_score(y_test, yhat)\n",
        "print('Accuracy: %.2f%%' % (accuracy * 100))\n"
      ],
      "metadata": {
        "colab": {
          "base_uri": "https://localhost:8080/"
        },
        "id": "13ecxDrrxQNz",
        "outputId": "f2e396fb-2e94-407b-dd82-0afeb1251083"
      },
      "execution_count": 55,
      "outputs": [
        {
          "output_type": "stream",
          "name": "stdout",
          "text": [
            "Accuracy: 77.27%\n"
          ]
        }
      ]
    },
    {
      "cell_type": "code",
      "source": [],
      "metadata": {
        "id": "wVmADxagwiMk"
      },
      "execution_count": null,
      "outputs": []
    },
    {
      "cell_type": "code",
      "metadata": {
        "colab": {
          "base_uri": "https://localhost:8080/"
        },
        "id": "h8C0GyreS8Z5",
        "outputId": "44afab08-2a92-45a4-adbf-e466f8c8f711"
      },
      "source": [
        "# evaluation of a model using 5 features chosen with Stat feature selection\n",
        "from sklearn.datasets import make_classification\n",
        "from sklearn.model_selection import train_test_split\n",
        "from sklearn.feature_selection import SelectFromModel\n",
        "from sklearn.ensemble import RandomForestClassifier\n",
        "from sklearn.linear_model import LogisticRegression\n",
        "from sklearn.metrics import accuracy_score\n",
        "from sklearn.feature_selection import chi2\n",
        "\n",
        "X, y = get_dataset()\n",
        "# Split into train and test sets\n",
        "X_train, X_test, y_train, y_test = train_test_split(X, y, test_size=0.2, random_state=42)\n",
        "\n",
        "# Feature selection using SelectKBest with chi-squared test\n",
        "k_best = SelectKBest(score_func=chi2, k=5)\n",
        "X_train_fs = k_best.fit_transform(X_train, y_train)\n",
        "X_test_fs = k_best.transform(X_test)\n",
        "\n",
        "# Fit the Logistic Regression model\n",
        "model = LogisticRegression(solver='liblinear')\n",
        "model.fit(X_train_fs, y_train)\n",
        "\n",
        "# Evaluate the model\n",
        "yhat = model.predict(X_test_fs)\n",
        "\n",
        "# Evaluate predictions\n",
        "accuracy = accuracy_score(y_test, yhat)\n",
        "print('Accuracy: %.2f%%' % (accuracy * 100))"
      ],
      "execution_count": 56,
      "outputs": [
        {
          "output_type": "stream",
          "name": "stdout",
          "text": [
            "Accuracy: 75.97%\n"
          ]
        }
      ]
    },
    {
      "cell_type": "code",
      "source": [],
      "metadata": {
        "id": "SkbayHchyyA7"
      },
      "execution_count": null,
      "outputs": []
    },
    {
      "cell_type": "code",
      "source": [
        "#evaluation of a model using 8 features chosen with Permutation Feature Importance\n",
        "\n",
        "X, y = get_dataset()\n",
        "# Split into train and test sets\n",
        "X_train, X_test, y_train, y_test = train_test_split(X, y, test_size=0.2, random_state=42)\n",
        "\n",
        "# Train a RandomForestClassifier to get initial feature importance\n",
        "rf_model = RandomForestClassifier(n_estimators=1000, random_state=42)\n",
        "rf_model.fit(X_train, y_train)\n",
        "\n",
        "# Calculate permutation feature importance\n",
        "perm_importance = permutation_importance(rf_model, X_train, y_train, n_repeats=10, random_state=42)\n",
        "\n",
        "# Get indices of top 8 features based on permutation importance\n",
        "top_features_indices = (-perm_importance.importances_mean).argsort()[:8]\n",
        "\n",
        "# Select the top 8 features\n",
        "X_train_perm_importance = X_train.iloc[:, top_features_indices]\n",
        "X_test_perm_importance = X_test.iloc[:, top_features_indices]\n",
        "\n",
        "# Fit the Logistic Regression model on selected features\n",
        "lr_model = LogisticRegression(solver='liblinear')\n",
        "lr_model.fit(X_train_perm_importance, y_train)\n",
        "\n",
        "# Evaluate the model\n",
        "yhat = lr_model.predict(X_test_perm_importance)\n",
        "\n",
        "# Evaluate predictions\n",
        "accuracy = accuracy_score(y_test, yhat)\n",
        "print('Accuracy: %.2f%%' % (accuracy * 100))"
      ],
      "metadata": {
        "colab": {
          "base_uri": "https://localhost:8080/"
        },
        "id": "K-by_HhUyyEb",
        "outputId": "211cddff-e723-417e-d899-def911811cfb"
      },
      "execution_count": 57,
      "outputs": [
        {
          "output_type": "stream",
          "name": "stdout",
          "text": [
            "Accuracy: 75.97%\n"
          ]
        }
      ]
    },
    {
      "cell_type": "markdown",
      "source": [
        "จากการ Result พบว่า model using 5 features chosen with REF ให้ประสิทธิภาพอยู่ที่ Accuracy: 77.27% ซึ่งสูงที่สุดจากท้ั้งหมด 3 วิธี"
      ],
      "metadata": {
        "id": "AfykxD2uzekc"
      }
    }
  ]
}